{
 "cells": [
  {
   "cell_type": "markdown",
   "metadata": {
    "collapsed": true
   },
   "source": [
    "# Image Classification\n",
    "In this project, you'll classify images from the [CIFAR-10 dataset](https://www.cs.toronto.edu/~kriz/cifar.html).  The dataset consists of airplanes, dogs, cats, and other objects. You'll preprocess the images, then train a convolutional neural network on all the samples. The images need to be normalized and the labels need to be one-hot encoded.  You'll get to apply what you learned and build a convolutional, max pooling, dropout, and fully connected layers.  At the end, you'll get to see your neural network's predictions on the sample images.\n",
    "## Get the Data\n",
    "Run the following cell to download the [CIFAR-10 dataset for python](https://www.cs.toronto.edu/~kriz/cifar-10-python.tar.gz)."
   ]
  },
  {
   "cell_type": "code",
   "execution_count": 1,
   "metadata": {
    "collapsed": false
   },
   "outputs": [
    {
     "name": "stdout",
     "output_type": "stream",
     "text": [
      "All files found!\n"
     ]
    }
   ],
   "source": [
    "\"\"\"\n",
    "DON'T MODIFY ANYTHING IN THIS CELL THAT IS BELOW THIS LINE\n",
    "\"\"\"\n",
    "from urllib.request import urlretrieve\n",
    "from os.path import isfile, isdir\n",
    "from tqdm import tqdm\n",
    "import problem_unittests as tests\n",
    "import tarfile\n",
    "\n",
    "cifar10_dataset_folder_path = 'cifar-10-batches-py'\n",
    "\n",
    "# Use Floyd's cifar-10 dataset if present\n",
    "floyd_cifar10_location = '/input/cifar-10/python.tar.gz'\n",
    "if isfile(floyd_cifar10_location):\n",
    "    tar_gz_path = floyd_cifar10_location\n",
    "else:\n",
    "    tar_gz_path = 'cifar-10-python.tar.gz'\n",
    "\n",
    "class DLProgress(tqdm):\n",
    "    last_block = 0\n",
    "\n",
    "    def hook(self, block_num=1, block_size=1, total_size=None):\n",
    "        self.total = total_size\n",
    "        self.update((block_num - self.last_block) * block_size)\n",
    "        self.last_block = block_num\n",
    "\n",
    "if not isfile(tar_gz_path):\n",
    "    with DLProgress(unit='B', unit_scale=True, miniters=1, desc='CIFAR-10 Dataset') as pbar:\n",
    "        urlretrieve(\n",
    "            'https://www.cs.toronto.edu/~kriz/cifar-10-python.tar.gz',\n",
    "            tar_gz_path,\n",
    "            pbar.hook)\n",
    "\n",
    "if not isdir(cifar10_dataset_folder_path):\n",
    "    with tarfile.open(tar_gz_path) as tar:\n",
    "        tar.extractall()\n",
    "        tar.close()\n",
    "\n",
    "\n",
    "tests.test_folder_path(cifar10_dataset_folder_path)"
   ]
  },
  {
   "cell_type": "markdown",
   "metadata": {},
   "source": [
    "## Explore the Data\n",
    "The dataset is broken into batches to prevent your machine from running out of memory.  The CIFAR-10 dataset consists of 5 batches, named `data_batch_1`, `data_batch_2`, etc.. Each batch contains the labels and images that are one of the following:\n",
    "* airplane\n",
    "* automobile\n",
    "* bird\n",
    "* cat\n",
    "* deer\n",
    "* dog\n",
    "* frog\n",
    "* horse\n",
    "* ship\n",
    "* truck\n",
    "\n",
    "Understanding a dataset is part of making predictions on the data.  Play around with the code cell below by changing the `batch_id` and `sample_id`. The `batch_id` is the id for a batch (1-5). The `sample_id` is the id for a image and label pair in the batch.\n",
    "\n",
    "Ask yourself \"What are all possible labels?\", \"What is the range of values for the image data?\", \"Are the labels in order or random?\".  Answers to questions like these will help you preprocess the data and end up with better predictions."
   ]
  },
  {
   "cell_type": "code",
   "execution_count": 2,
   "metadata": {
    "collapsed": false
   },
   "outputs": [
    {
     "name": "stdout",
     "output_type": "stream",
     "text": [
      "\n",
      "Stats of batch 1:\n",
      "Samples: 10000\n",
      "Label Counts: {0: 1005, 1: 974, 2: 1032, 3: 1016, 4: 999, 5: 937, 6: 1030, 7: 1001, 8: 1025, 9: 981}\n",
      "First 20 Labels: [6, 9, 9, 4, 1, 1, 2, 7, 8, 3, 4, 7, 7, 2, 9, 9, 9, 3, 2, 6]\n",
      "\n",
      "Example of Image 5:\n",
      "Image - Min Value: 0 Max Value: 252\n",
      "Image - Shape: (32, 32, 3)\n",
      "Label - Label Id: 1 Name: automobile\n"
     ]
    },
    {
     "data": {
      "image/png": "[encoded data removed]",
      "text/plain": [
       "<matplotlib.figure.Figure at 0x7f540155e860>"
      ]
     },
     "metadata": {
      "image/png": {
       "height": 250,
       "width": 253
      }
     },
     "output_type": "display_data"
    }
   ],
   "source": [
    "%matplotlib inline\n",
    "%config InlineBackend.figure_format = 'retina'\n",
    "\n",
    "import helper\n",
    "import numpy as np\n",
    "\n",
    "# Explore the dataset\n",
    "batch_id = 1\n",
    "sample_id = 5\n",
    "helper.display_stats(cifar10_dataset_folder_path, batch_id, sample_id)"
   ]
  },
  {
   "cell_type": "markdown",
   "metadata": {},
   "source": [
    "## Implement Preprocess Functions\n",
    "### Normalize\n",
    "In the cell below, implement the `normalize` function to take in image data, `x`, and return it as a normalized Numpy array. The values should be in the range of 0 to 1, inclusive.  The return object should be the same shape as `x`."
   ]
  },
  {
   "cell_type": "code",
   "execution_count": 3,
   "metadata": {
    "collapsed": false
   },
   "outputs": [
    {
     "name": "stdout",
     "output_type": "stream",
     "text": [
      "Tests Passed\n"
     ]
    }
   ],
   "source": [
    "def normalize(x):\n",
    "    \"\"\"\n",
    "    Normalize a list of sample image data in the range of 0 to 1\n",
    "    : x: List of image data.  The image shape is (32, 32, 3)\n",
    "    : return: Numpy array of normalize data\n",
    "    \"\"\"\n",
    "    return x/255 \n",
    "\n",
    "\n",
    "\"\"\"\n",
    "DON'T MODIFY ANYTHING IN THIS CELL THAT IS BELOW THIS LINE\n",
    "\"\"\"\n",
    "tests.test_normalize(normalize)"
   ]
  },
  {
   "cell_type": "markdown",
   "metadata": {},
   "source": [
    "### One-hot encode\n",
    "Just like the previous code cell, you'll be implementing a function for preprocessing.  This time, you'll implement the `one_hot_encode` function. The input, `x`, are a list of labels.  Implement the function to return the list of labels as One-Hot encoded Numpy array.  The possible values for labels are 0 to 9. The one-hot encoding function should return the same encoding for each value between each call to `one_hot_encode`.  Make sure to save the map of encodings outside the function.\n",
    "\n",
    "Hint: Don't reinvent the wheel."
   ]
  },
  {
   "cell_type": "code",
   "execution_count": 4,
   "metadata": {
    "collapsed": false
   },
   "outputs": [
    {
     "name": "stdout",
     "output_type": "stream",
     "text": [
      "Tests Passed\n"
     ]
    }
   ],
   "source": [
    "def one_hot_encode(x):\n",
    "    \"\"\"\n",
    "    One hot encode a list of sample labels. Return a one-hot encoded vector for each label.\n",
    "    : x: List of sample Labels\n",
    "    : return: Numpy array of one-hot encoded labels\n",
    "    \"\"\"\n",
    "    res = np.zeros((len(x), 10))\n",
    "    res[np.arange(len(x)),x] = 1\n",
    "    return res\n",
    "\n",
    "\n",
    "\"\"\"\n",
    "DON'T MODIFY ANYTHING IN THIS CELL THAT IS BELOW THIS LINE\n",
    "\"\"\"\n",
    "tests.test_one_hot_encode(one_hot_encode)"
   ]
  },
  {
   "cell_type": "markdown",
   "metadata": {},
   "source": [
    "### Randomize Data\n",
    "As you saw from exploring the data above, the order of the samples are randomized.  It doesn't hurt to randomize it again, but you don't need to for this dataset."
   ]
  },
  {
   "cell_type": "markdown",
   "metadata": {},
   "source": [
    "## Preprocess all the data and save it\n",
    "Running the code cell below will preprocess all the CIFAR-10 data and save it to file. The code below also uses 10% of the training data for validation."
   ]
  },
  {
   "cell_type": "code",
   "execution_count": 5,
   "metadata": {
    "collapsed": false
   },
   "outputs": [],
   "source": [
    "\"\"\"\n",
    "DON'T MODIFY ANYTHING IN THIS CELL\n",
    "\"\"\"\n",
    "# Preprocess Training, Validation, and Testing Data\n",
    "helper.preprocess_and_save_data(cifar10_dataset_folder_path, normalize, one_hot_encode)"
   ]
  },
  {
   "cell_type": "markdown",
   "metadata": {},
   "source": [
    "# Check Point\n",
    "This is your first checkpoint.  If you ever decide to come back to this notebook or have to restart the notebook, you can start from here.  The preprocessed data has been saved to disk."
   ]
  },
  {
   "cell_type": "code",
   "execution_count": 6,
   "metadata": {
    "collapsed": true
   },
   "outputs": [],
   "source": [
    "\"\"\"\n",
    "DON'T MODIFY ANYTHING IN THIS CELL\n",
    "\"\"\"\n",
    "import pickle\n",
    "import problem_unittests as tests\n",
    "import helper\n",
    "\n",
    "# Load the Preprocessed Validation data\n",
    "valid_features, valid_labels = pickle.load(open('preprocess_validation.p', mode='rb'))"
   ]
  },
  {
   "cell_type": "markdown",
   "metadata": {},
   "source": [
    "## Build the network\n",
    "For the neural network, you'll build each layer into a function.  Most of the code you've seen has been outside of functions. To test your code more thoroughly, we require that you put each layer in a function.  This allows us to give you better feedback and test for simple mistakes using our unittests before you submit your project.\n",
    "\n",
    ">**Note:** If you're finding it hard to dedicate enough time for this course each week, we've provided a small shortcut to this part of the project. In the next couple of problems, you'll have the option to use classes from the [TensorFlow Layers](https://www.tensorflow.org/api_docs/python/tf/layers) or [TensorFlow Layers (contrib)](https://www.tensorflow.org/api_guides/python/contrib.layers) packages to build each layer, except the layers you build in the \"Convolutional and Max Pooling Layer\" section.  TF Layers is similar to Keras's and TFLearn's abstraction to layers, so it's easy to pickup.\n",
    "\n",
    ">However, if you would like to get the most out of this course, try to solve all the problems _without_ using anything from the TF Layers packages. You **can** still use classes from other packages that happen to have the same name as ones you find in TF Layers! For example, instead of using the TF Layers version of the `conv2d` class, [tf.layers.conv2d](https://www.tensorflow.org/api_docs/python/tf/layers/conv2d), you would want to use the TF Neural Network version of `conv2d`, [tf.nn.conv2d](https://www.tensorflow.org/api_docs/python/tf/nn/conv2d). \n",
    "\n",
    "Let's begin!\n",
    "\n",
    "### Input\n",
    "The neural network needs to read the image data, one-hot encoded labels, and dropout keep probability. Implement the following functions\n",
    "* Implement `neural_net_image_input`\n",
    " * Return a [TF Placeholder](https://www.tensorflow.org/api_docs/python/tf/placeholder)\n",
    " * Set the shape using `image_shape` with batch size set to `None`.\n",
    " * Name the TensorFlow placeholder \"x\" using the TensorFlow `name` parameter in the [TF Placeholder](https://www.tensorflow.org/api_docs/python/tf/placeholder).\n",
    "* Implement `neural_net_label_input`\n",
    " * Return a [TF Placeholder](https://www.tensorflow.org/api_docs/python/tf/placeholder)\n",
    " * Set the shape using `n_classes` with batch size set to `None`.\n",
    " * Name the TensorFlow placeholder \"y\" using the TensorFlow `name` parameter in the [TF Placeholder](https://www.tensorflow.org/api_docs/python/tf/placeholder).\n",
    "* Implement `neural_net_keep_prob_input`\n",
    " * Return a [TF Placeholder](https://www.tensorflow.org/api_docs/python/tf/placeholder) for dropout keep probability.\n",
    " * Name the TensorFlow placeholder \"keep_prob\" using the TensorFlow `name` parameter in the [TF Placeholder](https://www.tensorflow.org/api_docs/python/tf/placeholder).\n",
    "\n",
    "These names will be used at the end of the project to load your saved model.\n",
    "\n",
    "Note: `None` for shapes in TensorFlow allow for a dynamic size."
   ]
  },
  {
   "cell_type": "code",
   "execution_count": 7,
   "metadata": {
    "collapsed": false
   },
   "outputs": [
    {
     "name": "stdout",
     "output_type": "stream",
     "text": [
      "Image Input Tests Passed.\n",
      "Label Input Tests Passed.\n",
      "Keep Prob Tests Passed.\n"
     ]
    }
   ],
   "source": [
    "import tensorflow as tf\n",
    "\n",
    "def neural_net_image_input(image_shape):\n",
    "    \"\"\"\n",
    "    Return a Tensor for a batch of image input\n",
    "    : image_shape: Shape of the images\n",
    "    : return: Tensor for image input.\n",
    "    \"\"\"\n",
    "    return tf.placeholder(tf.float32, shape=(None,32,32,3), name=\"x\")\n",
    "\n",
    "\n",
    "def neural_net_label_input(n_classes):\n",
    "    \"\"\"\n",
    "    Return a Tensor for a batch of label input\n",
    "    : n_classes: Number of classes\n",
    "    : return: Tensor for label input.\n",
    "    \"\"\"\n",
    "    return tf.placeholder(tf.float32, shape=(None,n_classes), name=\"y\")\n",
    "\n",
    "\n",
    "def neural_net_keep_prob_input():\n",
    "    \"\"\"\n",
    "    Return a Tensor for keep probability\n",
    "    : return: Tensor for keep probability.\n",
    "    \"\"\"\n",
    "    return  tf.placeholder(tf.float32, name=\"keep_prob\")\n",
    "\n",
    "\n",
    "\"\"\"\n",
    "DON'T MODIFY ANYTHING IN THIS CELL THAT IS BELOW THIS LINE\n",
    "\"\"\"\n",
    "tf.reset_default_graph()\n",
    "tests.test_nn_image_inputs(neural_net_image_input)\n",
    "tests.test_nn_label_inputs(neural_net_label_input)\n",
    "tests.test_nn_keep_prob_inputs(neural_net_keep_prob_input)"
   ]
  },
  {
   "cell_type": "markdown",
   "metadata": {},
   "source": [
    "### Convolution and Max Pooling Layer\n",
    "Convolution layers have a lot of success with images. For this code cell, you should implement the function `conv2d_maxpool` to apply convolution then max pooling:\n",
    "* Create the weight and bias using `conv_ksize`, `conv_num_outputs` and the shape of `x_tensor`.\n",
    "* Apply a convolution to `x_tensor` using weight and `conv_strides`.\n",
    " * We recommend you use same padding, but you're welcome to use any padding.\n",
    "* Add bias\n",
    "* Add a nonlinear activation to the convolution.\n",
    "* Apply Max Pooling using `pool_ksize` and `pool_strides`.\n",
    " * We recommend you use same padding, but you're welcome to use any padding.\n",
    "\n",
    "**Note:** You **can't** use [TensorFlow Layers](https://www.tensorflow.org/api_docs/python/tf/layers) or [TensorFlow Layers (contrib)](https://www.tensorflow.org/api_guides/python/contrib.layers) for **this** layer, but you can still use TensorFlow's [Neural Network](https://www.tensorflow.org/api_docs/python/tf/nn) package. You may still use the shortcut option for all the **other** layers."
   ]
  },
  {
   "cell_type": "code",
   "execution_count": 8,
   "metadata": {
    "collapsed": false
   },
   "outputs": [
    {
     "name": "stdout",
     "output_type": "stream",
     "text": [
      "Tests Passed\n"
     ]
    }
   ],
   "source": [
    "def conv2d_maxpool(x_tensor, conv_num_outputs, conv_ksize, conv_strides, pool_ksize, pool_strides):\n",
    "    \"\"\"\n",
    "    Apply convolution then max pooling to x_tensor\n",
    "    :param x_tensor: TensorFlow Tensor\n",
    "    :param conv_num_outputs: Number of outputs for the convolutional layer\n",
    "    :param conv_ksize: kernal size 2-D Tuple for the convolutional layer\n",
    "    :param conv_strides: Stride 2-D Tuple for convolution\n",
    "    :param pool_ksize: kernal size 2-D Tuple for pool\n",
    "    :param pool_strides: Stride 2-D Tuple for pool\n",
    "    : return: A tensor that represents convolution and max pooling of x_tensor\n",
    "    \"\"\"\n",
    "    \n",
    "    in_size = int(x_tensor.get_shape()[3])\n",
    "    \n",
    "    W = tf.Variable(tf.random_normal([conv_ksize[0],conv_ksize[1],in_size,conv_num_outputs], stddev=0.001))\n",
    "    b = tf.Variable(tf.random_normal([conv_num_outputs], stddev=0.001))\n",
    "    \n",
    "    x = tf.nn.conv2d(x_tensor, W, strides=[1, conv_strides[0], conv_strides[1], 1], padding='SAME')\n",
    "    \n",
    "    x = tf.nn.bias_add(x, b)\n",
    "    \n",
    "    x = tf.nn.relu(x)\n",
    "    \n",
    "    return tf.nn.max_pool(x, \n",
    "                          [1,pool_ksize[0],pool_ksize[1],1], \n",
    "                          strides = [1,pool_strides[0], pool_strides[1],1], \n",
    "                          padding=\"SAME\")\n",
    "\n",
    "\"\"\"\n",
    "DON'T MODIFY ANYTHING IN THIS CELL THAT IS BELOW THIS LINE\n",
    "\"\"\"\n",
    "tests.test_con_pool(conv2d_maxpool)"
   ]
  },
  {
   "cell_type": "markdown",
   "metadata": {},
   "source": [
    "### Flatten Layer\n",
    "Implement the `flatten` function to change the dimension of `x_tensor` from a 4-D tensor to a 2-D tensor.  The output should be the shape (*Batch Size*, *Flattened Image Size*). Shortcut option: you can use classes from the [TensorFlow Layers](https://www.tensorflow.org/api_docs/python/tf/layers) or [TensorFlow Layers (contrib)](https://www.tensorflow.org/api_guides/python/contrib.layers) packages for this layer. For more of a challenge, only use other TensorFlow packages."
   ]
  },
  {
   "cell_type": "code",
   "execution_count": 9,
   "metadata": {
    "collapsed": false
   },
   "outputs": [
    {
     "name": "stdout",
     "output_type": "stream",
     "text": [
      "Tests Passed\n"
     ]
    }
   ],
   "source": [
    "def flatten(x_tensor):\n",
    "    \"\"\"\n",
    "    Flatten x_tensor to (Batch Size, Flattened Image Size)\n",
    "    : x_tensor: A tensor of size (Batch Size, ...), where ... are the image dimensions.\n",
    "    : return: A tensor of size (Batch Size, Flattened Image Size).\n",
    "    \"\"\"\n",
    "    return tf.contrib.layers.flatten(x_tensor)\n",
    "\n",
    "\n",
    "\"\"\"\n",
    "DON'T MODIFY ANYTHING IN THIS CELL THAT IS BELOW THIS LINE\n",
    "\"\"\"\n",
    "tests.test_flatten(flatten)"
   ]
  },
  {
   "cell_type": "markdown",
   "metadata": {},
   "source": [
    "### Fully-Connected Layer\n",
    "Implement the `fully_conn` function to apply a fully connected layer to `x_tensor` with the shape (*Batch Size*, *num_outputs*). Shortcut option: you can use classes from the [TensorFlow Layers](https://www.tensorflow.org/api_docs/python/tf/layers) or [TensorFlow Layers (contrib)](https://www.tensorflow.org/api_guides/python/contrib.layers) packages for this layer. For more of a challenge, only use other TensorFlow packages."
   ]
  },
  {
   "cell_type": "code",
   "execution_count": 10,
   "metadata": {
    "collapsed": false
   },
   "outputs": [
    {
     "name": "stdout",
     "output_type": "stream",
     "text": [
      "Tests Passed\n"
     ]
    }
   ],
   "source": [
    "def fully_conn(x_tensor, num_outputs):\n",
    "    \"\"\"\n",
    "    Apply a fully connected layer to x_tensor using weight and bias\n",
    "    : x_tensor: A 2-D tensor where the first dimension is batch size.\n",
    "    : num_outputs: The number of output that the new tensor should be.\n",
    "    : return: A 2-D tensor where the second dimension is num_outputs.\n",
    "    \"\"\"\n",
    "    return tf.contrib.layers.fully_connected(x_tensor, num_outputs)\n",
    "\n",
    "\n",
    "\"\"\"\n",
    "DON'T MODIFY ANYTHING IN THIS CELL THAT IS BELOW THIS LINE\n",
    "\"\"\"\n",
    "tests.test_fully_conn(fully_conn)"
   ]
  },
  {
   "cell_type": "markdown",
   "metadata": {},
   "source": [
    "### Output Layer\n",
    "Implement the `output` function to apply a fully connected layer to `x_tensor` with the shape (*Batch Size*, *num_outputs*). Shortcut option: you can use classes from the [TensorFlow Layers](https://www.tensorflow.org/api_docs/python/tf/layers) or [TensorFlow Layers (contrib)](https://www.tensorflow.org/api_guides/python/contrib.layers) packages for this layer. For more of a challenge, only use other TensorFlow packages.\n",
    "\n",
    "**Note:** Activation, softmax, or cross entropy should **not** be applied to this."
   ]
  },
  {
   "cell_type": "code",
   "execution_count": 11,
   "metadata": {
    "collapsed": false
   },
   "outputs": [
    {
     "name": "stdout",
     "output_type": "stream",
     "text": [
      "Tests Passed\n"
     ]
    }
   ],
   "source": [
    "def output(x_tensor, num_outputs):\n",
    "    \"\"\"\n",
    "    Apply a output layer to x_tensor using weight and bias\n",
    "    : x_tensor: A 2-D tensor where the first dimension is batch size.\n",
    "    : num_outputs: The number of output that the new tensor should be.\n",
    "    : return: A 2-D tensor where the second dimension is num_outputs.\n",
    "    \"\"\"\n",
    "    return tf.contrib.layers.fully_connected(x_tensor, num_outputs,activation_fn=None)\n",
    "\n",
    "\n",
    "\"\"\"\n",
    "DON'T MODIFY ANYTHING IN THIS CELL THAT IS BELOW THIS LINE\n",
    "\"\"\"\n",
    "tests.test_output(output)"
   ]
  },
  {
   "cell_type": "markdown",
   "metadata": {},
   "source": [
    "### Create Convolutional Model\n",
    "Implement the function `conv_net` to create a convolutional neural network model. The function takes in a batch of images, `x`, and outputs logits.  Use the layers you created above to create this model:\n",
    "\n",
    "* Apply 1, 2, or 3 Convolution and Max Pool layers\n",
    "* Apply a Flatten Layer\n",
    "* Apply 1, 2, or 3 Fully Connected Layers\n",
    "* Apply an Output Layer\n",
    "* Return the output\n",
    "* Apply [TensorFlow's Dropout](https://www.tensorflow.org/api_docs/python/tf/nn/dropout) to one or more layers in the model using `keep_prob`. "
   ]
  },
  {
   "cell_type": "code",
   "execution_count": 12,
   "metadata": {
    "collapsed": false
   },
   "outputs": [
    {
     "name": "stdout",
     "output_type": "stream",
     "text": [
      "Neural Network Built!\n"
     ]
    }
   ],
   "source": [
    "def conv_net(x, keep_prob):\n",
    "    \"\"\"\n",
    "    Create a convolutional neural network model\n",
    "    : x: Placeholder tensor that holds image data.\n",
    "    : keep_prob: Placeholder tensor that hold dropout keep probability.\n",
    "    : return: Tensor that represents logits\n",
    "    \"\"\"\n",
    "    \n",
    "    # TODO: Apply 1, 2, or 3 Convolution and Max Pool layers\n",
    "    #    Play around with different number of outputs, kernel size and stride\n",
    "    # Function Definition from Above:\n",
    "    #    conv2d_maxpool(x_tensor, conv_num_outputs, conv_ksize, conv_strides, pool_ksize, pool_strides)\n",
    "    x = conv2d_maxpool(x, 32, [3,3], [1,1], [1,1], [1,1] )\n",
    "    x = tf.nn.dropout(x, keep_prob)\n",
    "    x = conv2d_maxpool(x, 62, [3,3], [1,1], [1,1], [1,1] )\n",
    "    x = tf.nn.dropout(x, keep_prob)\n",
    "#     x = conv2d_maxpool(x, 128, [3,3], [1,1], [2,2], [2,2] )\n",
    "#     x = tf.nn.dropout(x, keep_prob)\n",
    "\n",
    "\n",
    "    # TODO: Apply a Flatten Layer\n",
    "    # Function Definition from Above:\n",
    "    #   flatten(x_tensor)\n",
    "#     print(x.get_shape())\n",
    "    x = flatten(x)\n",
    "#     print(x.get_shape())\n",
    "\n",
    "    # TODO: Apply 1, 2, or 3 Fully Connected Layers\n",
    "    #    Play around with different number of outputs\n",
    "    # Function Definition from Above:\n",
    "    #   fully_conn(x_tensor, num_outputs)\n",
    "    x = fully_conn(x, 2048)\n",
    "    x = tf.nn.dropout(x, keep_prob)\n",
    "    x = fully_conn(x, 2048)\n",
    "    x = tf.nn.dropout(x, keep_prob)\n",
    "    \n",
    "    \n",
    "    # TODO: Apply an Output Layer\n",
    "    #    Set this to the number of classes\n",
    "    # Function Definition from Above:\n",
    "    #   output(x_tensor, num_outputs)\n",
    "    x = fully_conn(x, 10)\n",
    "    \n",
    "    \n",
    "    # TODO: return output\n",
    "    return x\n",
    "\n",
    "\n",
    "\"\"\"\n",
    "DON'T MODIFY ANYTHING IN THIS CELL THAT IS BELOW THIS LINE\n",
    "\"\"\"\n",
    "\n",
    "##############################\n",
    "## Build the Neural Network ##\n",
    "##############################\n",
    "\n",
    "# Remove previous weights, bias, inputs, etc..\n",
    "tf.reset_default_graph()\n",
    "\n",
    "# Inputs\n",
    "x = neural_net_image_input((32, 32, 3))\n",
    "y = neural_net_label_input(10)\n",
    "keep_prob = neural_net_keep_prob_input()\n",
    "\n",
    "# Model\n",
    "logits = conv_net(x, keep_prob)\n",
    "\n",
    "# Name logits Tensor, so that is can be loaded from disk after training\n",
    "logits = tf.identity(logits, name='logits')\n",
    "\n",
    "# Loss and Optimizer\n",
    "cost = tf.reduce_mean(tf.nn.softmax_cross_entropy_with_logits(logits=logits, labels=y))\n",
    "optimizer = tf.train.AdamOptimizer().minimize(cost)\n",
    "\n",
    "# Accuracy\n",
    "correct_pred = tf.equal(tf.argmax(logits, 1), tf.argmax(y, 1))\n",
    "accuracy = tf.reduce_mean(tf.cast(correct_pred, tf.float32), name='accuracy')\n",
    "\n",
    "tests.test_conv_net(conv_net)"
   ]
  },
  {
   "cell_type": "markdown",
   "metadata": {},
   "source": [
    "## Train the Neural Network\n",
    "### Single Optimization\n",
    "Implement the function `train_neural_network` to do a single optimization.  The optimization should use `optimizer` to optimize in `session` with a `feed_dict` of the following:\n",
    "* `x` for image input\n",
    "* `y` for labels\n",
    "* `keep_prob` for keep probability for dropout\n",
    "\n",
    "This function will be called for each batch, so `tf.global_variables_initializer()` has already been called.\n",
    "\n",
    "Note: Nothing needs to be returned. This function is only optimizing the neural network."
   ]
  },
  {
   "cell_type": "code",
   "execution_count": 13,
   "metadata": {
    "collapsed": false
   },
   "outputs": [
    {
     "name": "stdout",
     "output_type": "stream",
     "text": [
      "Tests Passed\n"
     ]
    }
   ],
   "source": [
    "def train_neural_network(session, optimizer, keep_probability, feature_batch, label_batch):\n",
    "    \"\"\"\n",
    "    Optimize the session on a batch of images and labels\n",
    "    : session: Current TensorFlow session\n",
    "    : optimizer: TensorFlow optimizer function\n",
    "    : keep_probability: keep probability\n",
    "    : feature_batch: Batch of Numpy image data\n",
    "    : label_batch: Batch of Numpy label data\n",
    "    \"\"\"\n",
    "    session.run([optimizer], feed_dict={\n",
    "        x:feature_batch,\n",
    "        y:label_batch,\n",
    "        keep_prob:keep_probability\n",
    "    })\n",
    "\n",
    "\n",
    "\"\"\"\n",
    "DON'T MODIFY ANYTHING IN THIS CELL THAT IS BELOW THIS LINE\n",
    "\"\"\"\n",
    "tests.test_train_nn(train_neural_network)"
   ]
  },
  {
   "cell_type": "markdown",
   "metadata": {},
   "source": [
    "### Show Stats\n",
    "Implement the function `print_stats` to print loss and validation accuracy.  Use the global variables `valid_features` and `valid_labels` to calculate validation accuracy.  Use a keep probability of `1.0` to calculate the loss and validation accuracy."
   ]
  },
  {
   "cell_type": "code",
   "execution_count": 14,
   "metadata": {
    "collapsed": false
   },
   "outputs": [],
   "source": [
    "def print_stats(session, feature_batch, label_batch, cost, accuracy):\n",
    "    \"\"\"\n",
    "    Print information about loss and validation accuracy\n",
    "    : session: Current TensorFlow session\n",
    "    : feature_batch: Batch of Numpy image data\n",
    "    : label_batch: Batch of Numpy label data\n",
    "    : cost: TensorFlow cost function\n",
    "    : accuracy: TensorFlow accuracy function\n",
    "    \"\"\"\n",
    "    \n",
    "    cost_res, acc = session.run([cost, accuracy], feed_dict={\n",
    "        x:feature_batch,\n",
    "        y:label_batch,\n",
    "        keep_prob:1.0\n",
    "    })\n",
    "    print(\"cost_res\", cost_res, \"acc\", acc)"
   ]
  },
  {
   "cell_type": "markdown",
   "metadata": {},
   "source": [
    "### Hyperparameters\n",
    "Tune the following parameters:\n",
    "* Set `epochs` to the number of iterations until the network stops learning or start overfitting\n",
    "* Set `batch_size` to the highest number that your machine has memory for.  Most people set them to common sizes of memory:\n",
    " * 64\n",
    " * 128\n",
    " * 256\n",
    " * ...\n",
    "* Set `keep_probability` to the probability of keeping a node using dropout"
   ]
  },
  {
   "cell_type": "code",
   "execution_count": 15,
   "metadata": {
    "collapsed": true
   },
   "outputs": [],
   "source": [
    "# TODO: Tune Parameters\n",
    "epochs = 50\n",
    "batch_size = 512\n",
    "keep_probability = 0.5"
   ]
  },
  {
   "cell_type": "markdown",
   "metadata": {},
   "source": [
    "### Train on a Single CIFAR-10 Batch\n",
    "Instead of training the neural network on all the CIFAR-10 batches of data, let's use a single batch. This should save time while you iterate on the model to get a better accuracy.  Once the final validation accuracy is 50% or greater, run the model on all the data in the next section."
   ]
  },
  {
   "cell_type": "code",
   "execution_count": 16,
   "metadata": {
    "collapsed": false
   },
   "outputs": [
    {
     "name": "stdout",
     "output_type": "stream",
     "text": [
      "Checking the Training on a Single Batch...\n",
      "Epoch  1, CIFAR-10 Batch 1:  cost_res 2.26702 acc 0.162162\n",
      "Epoch  2, CIFAR-10 Batch 1:  cost_res 2.23224 acc 0.219595\n",
      "Epoch  3, CIFAR-10 Batch 1:  cost_res 2.21393 acc 0.226351\n",
      "Epoch  4, CIFAR-10 Batch 1:  cost_res 2.16329 acc 0.239865\n",
      "Epoch  5, CIFAR-10 Batch 1:  cost_res 2.15496 acc 0.236486\n",
      "Epoch  6, CIFAR-10 Batch 1:  cost_res 2.13586 acc 0.25\n",
      "Epoch  7, CIFAR-10 Batch 1:  cost_res 2.13005 acc 0.260135\n",
      "Epoch  8, CIFAR-10 Batch 1:  cost_res 2.12031 acc 0.27027\n",
      "Epoch  9, CIFAR-10 Batch 1:  cost_res 2.10244 acc 0.307432\n",
      "Epoch 10, CIFAR-10 Batch 1:  cost_res 2.08085 acc 0.300676\n",
      "Epoch 11, CIFAR-10 Batch 1:  cost_res 2.05984 acc 0.307432\n",
      "Epoch 12, CIFAR-10 Batch 1:  cost_res 2.04118 acc 0.337838\n",
      "Epoch 13, CIFAR-10 Batch 1:  cost_res 2.02806 acc 0.351351\n",
      "Epoch 14, CIFAR-10 Batch 1:  cost_res 2.00142 acc 0.351351\n",
      "Epoch 15, CIFAR-10 Batch 1:  cost_res 1.97908 acc 0.358108\n",
      "Epoch 16, CIFAR-10 Batch 1:  cost_res 1.97436 acc 0.361487\n",
      "Epoch 17, CIFAR-10 Batch 1:  cost_res 1.94754 acc 0.371622\n",
      "Epoch 18, CIFAR-10 Batch 1:  cost_res 1.93384 acc 0.375\n",
      "Epoch 19, CIFAR-10 Batch 1:  cost_res 1.90751 acc 0.378378\n",
      "Epoch 20, CIFAR-10 Batch 1:  cost_res 1.88609 acc 0.368243\n",
      "Epoch 21, CIFAR-10 Batch 1:  cost_res 1.88751 acc 0.381757\n",
      "Epoch 22, CIFAR-10 Batch 1:  cost_res 1.87188 acc 0.388514\n",
      "Epoch 23, CIFAR-10 Batch 1:  cost_res 1.84105 acc 0.385135\n",
      "Epoch 24, CIFAR-10 Batch 1:  cost_res 1.81012 acc 0.398649\n",
      "Epoch 25, CIFAR-10 Batch 1:  cost_res 1.82383 acc 0.412162\n",
      "Epoch 26, CIFAR-10 Batch 1:  cost_res 1.78747 acc 0.405405\n",
      "Epoch 27, CIFAR-10 Batch 1:  cost_res 1.77718 acc 0.402027\n",
      "Epoch 28, CIFAR-10 Batch 1:  cost_res 1.79921 acc 0.408784\n",
      "Epoch 29, CIFAR-10 Batch 1:  cost_res 1.7352 acc 0.412162\n",
      "Epoch 30, CIFAR-10 Batch 1:  cost_res 1.74066 acc 0.398649\n",
      "Epoch 31, CIFAR-10 Batch 1:  cost_res 1.73192 acc 0.422297\n",
      "Epoch 32, CIFAR-10 Batch 1:  cost_res 1.82218 acc 0.375\n",
      "Epoch 33, CIFAR-10 Batch 1:  cost_res 1.7502 acc 0.39527\n",
      "Epoch 34, CIFAR-10 Batch 1:  cost_res 1.69742 acc 0.425676\n",
      "Epoch 35, CIFAR-10 Batch 1:  cost_res 1.65957 acc 0.432432\n",
      "Epoch 36, CIFAR-10 Batch 1:  cost_res 1.65537 acc 0.445946\n",
      "Epoch 37, CIFAR-10 Batch 1:  cost_res 1.65217 acc 0.429054\n",
      "Epoch 38, CIFAR-10 Batch 1:  cost_res 1.64737 acc 0.429054\n",
      "Epoch 39, CIFAR-10 Batch 1:  cost_res 1.61535 acc 0.439189\n",
      "Epoch 40, CIFAR-10 Batch 1:  cost_res 1.60913 acc 0.442568\n",
      "Epoch 41, CIFAR-10 Batch 1:  cost_res 1.61447 acc 0.435811\n",
      "Epoch 42, CIFAR-10 Batch 1:  cost_res 1.59833 acc 0.456081\n",
      "Epoch 43, CIFAR-10 Batch 1:  cost_res 1.56846 acc 0.452703\n",
      "Epoch 44, CIFAR-10 Batch 1:  cost_res 1.57372 acc 0.456081\n",
      "Epoch 45, CIFAR-10 Batch 1:  cost_res 1.57663 acc 0.442568\n",
      "Epoch 46, CIFAR-10 Batch 1:  cost_res 1.58001 acc 0.449324\n",
      "Epoch 47, CIFAR-10 Batch 1:  cost_res 1.55215 acc 0.45946\n",
      "Epoch 48, CIFAR-10 Batch 1:  cost_res 1.55701 acc 0.45946\n",
      "Epoch 49, CIFAR-10 Batch 1:  cost_res 1.53338 acc 0.459459\n",
      "Epoch 50, CIFAR-10 Batch 1:  cost_res 1.53489 acc 0.462838\n"
     ]
    }
   ],
   "source": [
    "\"\"\"\n",
    "DON'T MODIFY ANYTHING IN THIS CELL\n",
    "\"\"\"\n",
    "print('Checking the Training on a Single Batch...')\n",
    "with tf.Session() as sess:\n",
    "    # Initializing the variables\n",
    "    sess.run(tf.global_variables_initializer())\n",
    "    \n",
    "    # Training cycle\n",
    "    for epoch in range(epochs):\n",
    "        batch_i = 1\n",
    "        for batch_features, batch_labels in helper.load_preprocess_training_batch(batch_i, batch_size):\n",
    "            train_neural_network(sess, optimizer, keep_probability, batch_features, batch_labels)\n",
    "        print('Epoch {:>2}, CIFAR-10 Batch {}:  '.format(epoch + 1, batch_i), end='')\n",
    "        print_stats(sess, batch_features, batch_labels, cost, accuracy)"
   ]
  },
  {
   "cell_type": "markdown",
   "metadata": {},
   "source": [
    "### Fully Train the Model\n",
    "Now that you got a good accuracy with a single CIFAR-10 batch, try it with all five batches."
   ]
  },
  {
   "cell_type": "code",
   "execution_count": 17,
   "metadata": {
    "collapsed": false
   },
   "outputs": [
    {
     "name": "stdout",
     "output_type": "stream",
     "text": [
      "Training...\n",
      "Epoch  1, CIFAR-10 Batch 1:  cost_res 2.25472 acc 0.155405\n",
      "Epoch  1, CIFAR-10 Batch 2:  cost_res 2.16275 acc 0.222973\n",
      "Epoch  1, CIFAR-10 Batch 3:  cost_res 2.10037 acc 0.246622\n",
      "Epoch  1, CIFAR-10 Batch 4:  cost_res 2.02067 acc 0.290541\n",
      "Epoch  1, CIFAR-10 Batch 5:  cost_res 1.96236 acc 0.310811\n",
      "Epoch  2, CIFAR-10 Batch 1:  cost_res 2.01264 acc 0.320946\n",
      "Epoch  2, CIFAR-10 Batch 2:  cost_res 1.86201 acc 0.364865\n",
      "Epoch  2, CIFAR-10 Batch 3:  cost_res 1.74959 acc 0.375\n",
      "Epoch  2, CIFAR-10 Batch 4:  cost_res 1.68546 acc 0.408784\n",
      "Epoch  2, CIFAR-10 Batch 5:  cost_res 1.75783 acc 0.405405\n",
      "Epoch  3, CIFAR-10 Batch 1:  cost_res 1.85096 acc 0.375\n",
      "Epoch  3, CIFAR-10 Batch 2:  cost_res 1.69737 acc 0.408784\n",
      "Epoch  3, CIFAR-10 Batch 3:  cost_res 1.60575 acc 0.445946\n",
      "Epoch  3, CIFAR-10 Batch 4:  cost_res 1.57263 acc 0.456081\n",
      "Epoch  3, CIFAR-10 Batch 5:  cost_res 1.66855 acc 0.442568\n",
      "Epoch  4, CIFAR-10 Batch 1:  cost_res 1.78711 acc 0.375\n",
      "Epoch  4, CIFAR-10 Batch 2:  cost_res 1.61221 acc 0.429054\n",
      "Epoch  4, CIFAR-10 Batch 3:  cost_res 1.49174 acc 0.503378\n",
      "Epoch  4, CIFAR-10 Batch 4:  cost_res 1.45194 acc 0.493243\n",
      "Epoch  4, CIFAR-10 Batch 5:  cost_res 1.59529 acc 0.483108\n",
      "Epoch  5, CIFAR-10 Batch 1:  cost_res 1.69071 acc 0.425676\n",
      "Epoch  5, CIFAR-10 Batch 2:  cost_res 1.53671 acc 0.45946\n",
      "Epoch  5, CIFAR-10 Batch 3:  cost_res 1.42165 acc 0.533784\n",
      "Epoch  5, CIFAR-10 Batch 4:  cost_res 1.39442 acc 0.523649\n",
      "Epoch  5, CIFAR-10 Batch 5:  cost_res 1.52876 acc 0.489865\n",
      "Epoch  6, CIFAR-10 Batch 1:  cost_res 1.62885 acc 0.452703\n",
      "Epoch  6, CIFAR-10 Batch 2:  cost_res 1.47009 acc 0.523649\n",
      "Epoch  6, CIFAR-10 Batch 3:  cost_res 1.34975 acc 0.513514\n",
      "Epoch  6, CIFAR-10 Batch 4:  cost_res 1.3654 acc 0.530405\n",
      "Epoch  6, CIFAR-10 Batch 5:  cost_res 1.46645 acc 0.527027\n",
      "Epoch  7, CIFAR-10 Batch 1:  cost_res 1.56207 acc 0.456081\n",
      "Epoch  7, CIFAR-10 Batch 2:  cost_res 1.43344 acc 0.533784\n",
      "Epoch  7, CIFAR-10 Batch 3:  cost_res 1.29595 acc 0.537162\n",
      "Epoch  7, CIFAR-10 Batch 4:  cost_res 1.28053 acc 0.570946\n",
      "Epoch  7, CIFAR-10 Batch 5:  cost_res 1.39385 acc 0.533784\n",
      "Epoch  8, CIFAR-10 Batch 1:  cost_res 1.51467 acc 0.472973\n",
      "Epoch  8, CIFAR-10 Batch 2:  cost_res 1.39193 acc 0.540541\n",
      "Epoch  8, CIFAR-10 Batch 3:  cost_res 1.27549 acc 0.574324\n",
      "Epoch  8, CIFAR-10 Batch 4:  cost_res 1.21925 acc 0.591216\n",
      "Epoch  8, CIFAR-10 Batch 5:  cost_res 1.3376 acc 0.570946\n",
      "Epoch  9, CIFAR-10 Batch 1:  cost_res 1.43448 acc 0.516892\n",
      "Epoch  9, CIFAR-10 Batch 2:  cost_res 1.32016 acc 0.540541\n",
      "Epoch  9, CIFAR-10 Batch 3:  cost_res 1.22076 acc 0.574324\n",
      "Epoch  9, CIFAR-10 Batch 4:  cost_res 1.16127 acc 0.631757\n",
      "Epoch  9, CIFAR-10 Batch 5:  cost_res 1.23397 acc 0.597973\n",
      "Epoch 10, CIFAR-10 Batch 1:  cost_res 1.35582 acc 0.533784\n",
      "Epoch 10, CIFAR-10 Batch 2:  cost_res 1.27051 acc 0.554054\n",
      "Epoch 10, CIFAR-10 Batch 3:  cost_res 1.18674 acc 0.594595\n",
      "Epoch 10, CIFAR-10 Batch 4:  cost_res 1.11576 acc 0.631757\n",
      "Epoch 10, CIFAR-10 Batch 5:  cost_res 1.20109 acc 0.594595\n",
      "Epoch 11, CIFAR-10 Batch 1:  cost_res 1.32463 acc 0.557432\n",
      "Epoch 11, CIFAR-10 Batch 2:  cost_res 1.2163 acc 0.591216\n",
      "Epoch 11, CIFAR-10 Batch 3:  cost_res 1.14452 acc 0.618243\n",
      "Epoch 11, CIFAR-10 Batch 4:  cost_res 1.03738 acc 0.641892\n",
      "Epoch 11, CIFAR-10 Batch 5:  cost_res 1.18107 acc 0.597973\n",
      "Epoch 12, CIFAR-10 Batch 1:  cost_res 1.2766 acc 0.581081\n",
      "Epoch 12, CIFAR-10 Batch 2:  cost_res 1.20215 acc 0.60473\n",
      "Epoch 12, CIFAR-10 Batch 3:  cost_res 0.934645 acc 0.665541\n",
      "Epoch 12, CIFAR-10 Batch 4:  cost_res 0.889348 acc 0.679054\n",
      "Epoch 12, CIFAR-10 Batch 5:  cost_res 1.00151 acc 0.662162\n",
      "Epoch 13, CIFAR-10 Batch 1:  cost_res 1.04826 acc 0.652027\n",
      "Epoch 13, CIFAR-10 Batch 2:  cost_res 0.961848 acc 0.672297\n",
      "Epoch 13, CIFAR-10 Batch 3:  cost_res 0.859545 acc 0.695946\n",
      "Epoch 13, CIFAR-10 Batch 4:  cost_res 0.833429 acc 0.702703\n",
      "Epoch 13, CIFAR-10 Batch 5:  cost_res 0.907852 acc 0.695946\n",
      "Epoch 14, CIFAR-10 Batch 1:  cost_res 0.995471 acc 0.679054\n",
      "Epoch 14, CIFAR-10 Batch 2:  cost_res 0.928453 acc 0.672297\n",
      "Epoch 14, CIFAR-10 Batch 3:  cost_res 0.858746 acc 0.709459\n",
      "Epoch 14, CIFAR-10 Batch 4:  cost_res 0.800589 acc 0.726351\n",
      "Epoch 14, CIFAR-10 Batch 5:  cost_res 0.909187 acc 0.722973\n",
      "Epoch 15, CIFAR-10 Batch 1:  cost_res 0.912191 acc 0.712838\n",
      "Epoch 15, CIFAR-10 Batch 2:  cost_res 0.90146 acc 0.712838\n",
      "Epoch 15, CIFAR-10 Batch 3:  cost_res 0.790043 acc 0.743243\n",
      "Epoch 15, CIFAR-10 Batch 4:  cost_res 0.744593 acc 0.75\n",
      "Epoch 15, CIFAR-10 Batch 5:  cost_res 0.837693 acc 0.72973\n",
      "Epoch 16, CIFAR-10 Batch 1:  cost_res 0.853858 acc 0.75\n",
      "Epoch 16, CIFAR-10 Batch 2:  cost_res 0.828495 acc 0.72973\n",
      "Epoch 16, CIFAR-10 Batch 3:  cost_res 0.747058 acc 0.773649\n",
      "Epoch 16, CIFAR-10 Batch 4:  cost_res 0.715562 acc 0.760135\n",
      "Epoch 16, CIFAR-10 Batch 5:  cost_res 0.809089 acc 0.756757\n",
      "Epoch 17, CIFAR-10 Batch 1:  cost_res 0.813548 acc 0.736486\n",
      "Epoch 17, CIFAR-10 Batch 2:  cost_res 0.794788 acc 0.719595\n",
      "Epoch 17, CIFAR-10 Batch 3:  cost_res 0.706001 acc 0.766892\n",
      "Epoch 17, CIFAR-10 Batch 4:  cost_res 0.700865 acc 0.780405\n",
      "Epoch 17, CIFAR-10 Batch 5:  cost_res 0.754057 acc 0.777027\n",
      "Epoch 18, CIFAR-10 Batch 1:  cost_res 0.780394 acc 0.760135\n",
      "Epoch 18, CIFAR-10 Batch 2:  cost_res 0.78538 acc 0.72973\n",
      "Epoch 18, CIFAR-10 Batch 3:  cost_res 0.663046 acc 0.804054\n",
      "Epoch 18, CIFAR-10 Batch 4:  cost_res 0.657715 acc 0.797297\n",
      "Epoch 18, CIFAR-10 Batch 5:  cost_res 0.70483 acc 0.783784\n",
      "Epoch 19, CIFAR-10 Batch 1:  cost_res 0.710596 acc 0.783784\n",
      "Epoch 19, CIFAR-10 Batch 2:  cost_res 0.734939 acc 0.773649\n",
      "Epoch 19, CIFAR-10 Batch 3:  cost_res 0.623019 acc 0.807432\n",
      "Epoch 19, CIFAR-10 Batch 4:  cost_res 0.601339 acc 0.824324\n",
      "Epoch 19, CIFAR-10 Batch 5:  cost_res 0.681528 acc 0.800676\n",
      "Epoch 20, CIFAR-10 Batch 1:  cost_res 0.685803 acc 0.777027\n",
      "Epoch 20, CIFAR-10 Batch 2:  cost_res 0.707204 acc 0.760135\n",
      "Epoch 20, CIFAR-10 Batch 3:  cost_res 0.587169 acc 0.820946\n",
      "Epoch 20, CIFAR-10 Batch 4:  cost_res 0.564638 acc 0.841216\n",
      "Epoch 20, CIFAR-10 Batch 5:  cost_res 0.617186 acc 0.83446\n",
      "Epoch 21, CIFAR-10 Batch 1:  cost_res 0.641211 acc 0.797297\n",
      "Epoch 21, CIFAR-10 Batch 2:  cost_res 0.697579 acc 0.780405\n",
      "Epoch 21, CIFAR-10 Batch 3:  cost_res 0.549925 acc 0.831081\n",
      "Epoch 21, CIFAR-10 Batch 4:  cost_res 0.578313 acc 0.841216\n",
      "Epoch 21, CIFAR-10 Batch 5:  cost_res 0.597705 acc 0.837838\n",
      "Epoch 22, CIFAR-10 Batch 1:  cost_res 0.608251 acc 0.810811\n",
      "Epoch 22, CIFAR-10 Batch 2:  cost_res 0.663818 acc 0.790541\n",
      "Epoch 22, CIFAR-10 Batch 3:  cost_res 0.522887 acc 0.875\n",
      "Epoch 22, CIFAR-10 Batch 4:  cost_res 0.532877 acc 0.861487\n",
      "Epoch 22, CIFAR-10 Batch 5:  cost_res 0.543114 acc 0.85473\n",
      "Epoch 23, CIFAR-10 Batch 1:  cost_res 0.587414 acc 0.831081\n",
      "Epoch 23, CIFAR-10 Batch 2:  cost_res 0.678628 acc 0.773649\n",
      "Epoch 23, CIFAR-10 Batch 3:  cost_res 0.501393 acc 0.864865\n",
      "Epoch 23, CIFAR-10 Batch 4:  cost_res 0.539679 acc 0.844595\n",
      "Epoch 23, CIFAR-10 Batch 5:  cost_res 0.600833 acc 0.827703\n",
      "Epoch 24, CIFAR-10 Batch 1:  cost_res 0.589582 acc 0.827703\n",
      "Epoch 24, CIFAR-10 Batch 2:  cost_res 0.591418 acc 0.817568\n",
      "Epoch 24, CIFAR-10 Batch 3:  cost_res 0.463858 acc 0.871622\n",
      "Epoch 24, CIFAR-10 Batch 4:  cost_res 0.50493 acc 0.868243\n",
      "Epoch 24, CIFAR-10 Batch 5:  cost_res 0.516368 acc 0.864865\n",
      "Epoch 25, CIFAR-10 Batch 1:  cost_res 0.549398 acc 0.847973\n",
      "Epoch 25, CIFAR-10 Batch 2:  cost_res 0.567981 acc 0.814189\n",
      "Epoch 25, CIFAR-10 Batch 3:  cost_res 0.476888 acc 0.875\n",
      "Epoch 25, CIFAR-10 Batch 4:  cost_res 0.457862 acc 0.888514\n",
      "Epoch 25, CIFAR-10 Batch 5:  cost_res 0.52663 acc 0.847973\n",
      "Epoch 26, CIFAR-10 Batch 1:  cost_res 0.534894 acc 0.85473\n",
      "Epoch 26, CIFAR-10 Batch 2:  cost_res 0.522818 acc 0.844595\n",
      "Epoch 26, CIFAR-10 Batch 3:  cost_res 0.446102 acc 0.881757\n",
      "Epoch 26, CIFAR-10 Batch 4:  cost_res 0.44753 acc 0.89527\n",
      "Epoch 26, CIFAR-10 Batch 5:  cost_res 0.493863 acc 0.878378\n",
      "Epoch 27, CIFAR-10 Batch 1:  cost_res 0.478387 acc 0.885135\n",
      "Epoch 27, CIFAR-10 Batch 2:  cost_res 0.505465 acc 0.861487\n",
      "Epoch 27, CIFAR-10 Batch 3:  cost_res 0.472977 acc 0.861487\n",
      "Epoch 27, CIFAR-10 Batch 4:  cost_res 0.407429 acc 0.912162\n",
      "Epoch 27, CIFAR-10 Batch 5:  cost_res 0.460127 acc 0.888514\n",
      "Epoch 28, CIFAR-10 Batch 1:  cost_res 0.472174 acc 0.875\n",
      "Epoch 28, CIFAR-10 Batch 2:  cost_res 0.505009 acc 0.891892\n",
      "Epoch 28, CIFAR-10 Batch 3:  cost_res 0.406513 acc 0.902027\n",
      "Epoch 28, CIFAR-10 Batch 4:  cost_res 0.396516 acc 0.925676\n",
      "Epoch 28, CIFAR-10 Batch 5:  cost_res 0.40404 acc 0.929054\n",
      "Epoch 29, CIFAR-10 Batch 1:  cost_res 0.463297 acc 0.898649\n",
      "Epoch 29, CIFAR-10 Batch 2:  cost_res 0.457466 acc 0.878378\n",
      "Epoch 29, CIFAR-10 Batch 3:  cost_res 0.374593 acc 0.915541\n",
      "Epoch 29, CIFAR-10 Batch 4:  cost_res 0.381938 acc 0.929054\n",
      "Epoch 29, CIFAR-10 Batch 5:  cost_res 0.411149 acc 0.922297\n",
      "Epoch 30, CIFAR-10 Batch 1:  cost_res 0.401621 acc 0.915541\n",
      "Epoch 30, CIFAR-10 Batch 2:  cost_res 0.457149 acc 0.864865\n",
      "Epoch 30, CIFAR-10 Batch 3:  cost_res 0.392295 acc 0.89527\n",
      "Epoch 30, CIFAR-10 Batch 4:  cost_res 0.37031 acc 0.929054\n",
      "Epoch 30, CIFAR-10 Batch 5:  cost_res 0.385151 acc 0.932432\n",
      "Epoch 31, CIFAR-10 Batch 1:  cost_res 0.439142 acc 0.905405\n",
      "Epoch 31, CIFAR-10 Batch 2:  cost_res 0.420301 acc 0.905405\n",
      "Epoch 31, CIFAR-10 Batch 3:  cost_res 0.354936 acc 0.918919\n",
      "Epoch 31, CIFAR-10 Batch 4:  cost_res 0.389462 acc 0.905405\n",
      "Epoch 31, CIFAR-10 Batch 5:  cost_res 0.355743 acc 0.925676\n",
      "Epoch 32, CIFAR-10 Batch 1:  cost_res 0.405317 acc 0.912162\n",
      "Epoch 32, CIFAR-10 Batch 2:  cost_res 0.44084 acc 0.898649\n",
      "Epoch 32, CIFAR-10 Batch 3:  cost_res 0.33998 acc 0.922297\n",
      "Epoch 32, CIFAR-10 Batch 4:  cost_res 0.339001 acc 0.935811\n",
      "Epoch 32, CIFAR-10 Batch 5:  cost_res 0.342537 acc 0.929054\n",
      "Epoch 33, CIFAR-10 Batch 1:  cost_res 0.355604 acc 0.932432\n",
      "Epoch 33, CIFAR-10 Batch 2:  cost_res 0.413598 acc 0.915541\n",
      "Epoch 33, CIFAR-10 Batch 3:  cost_res 0.343799 acc 0.932432\n",
      "Epoch 33, CIFAR-10 Batch 4:  cost_res 0.354059 acc 0.925676\n",
      "Epoch 33, CIFAR-10 Batch 5:  cost_res 0.312201 acc 0.952703\n",
      "Epoch 34, CIFAR-10 Batch 1:  cost_res 0.317017 acc 0.942568\n",
      "Epoch 34, CIFAR-10 Batch 2:  cost_res 0.368007 acc 0.918919\n",
      "Epoch 34, CIFAR-10 Batch 3:  cost_res 0.321427 acc 0.935811\n",
      "Epoch 34, CIFAR-10 Batch 4:  cost_res 0.317042 acc 0.942568\n",
      "Epoch 34, CIFAR-10 Batch 5:  cost_res 0.296867 acc 0.952703\n",
      "Epoch 35, CIFAR-10 Batch 1:  cost_res 0.30509 acc 0.956081\n",
      "Epoch 35, CIFAR-10 Batch 2:  cost_res 0.369809 acc 0.908784\n",
      "Epoch 35, CIFAR-10 Batch 3:  cost_res 0.303188 acc 0.939189\n",
      "Epoch 35, CIFAR-10 Batch 4:  cost_res 0.31916 acc 0.942568\n",
      "Epoch 35, CIFAR-10 Batch 5:  cost_res 0.29245 acc 0.935811\n",
      "Epoch 36, CIFAR-10 Batch 1:  cost_res 0.274486 acc 0.956081\n",
      "Epoch 36, CIFAR-10 Batch 2:  cost_res 0.337981 acc 0.925676\n",
      "Epoch 36, CIFAR-10 Batch 3:  cost_res 0.320202 acc 0.925676\n",
      "Epoch 36, CIFAR-10 Batch 4:  cost_res 0.29929 acc 0.949324\n",
      "Epoch 36, CIFAR-10 Batch 5:  cost_res 0.264977 acc 0.962838\n",
      "Epoch 37, CIFAR-10 Batch 1:  cost_res 0.309864 acc 0.932432\n",
      "Epoch 37, CIFAR-10 Batch 2:  cost_res 0.338007 acc 0.929054\n",
      "Epoch 37, CIFAR-10 Batch 3:  cost_res 0.278357 acc 0.942568\n",
      "Epoch 37, CIFAR-10 Batch 4:  cost_res 0.296384 acc 0.942568\n",
      "Epoch 37, CIFAR-10 Batch 5:  cost_res 0.272096 acc 0.966216\n",
      "Epoch 38, CIFAR-10 Batch 1:  cost_res 0.25846 acc 0.945946\n",
      "Epoch 38, CIFAR-10 Batch 2:  cost_res 0.299599 acc 0.925676\n",
      "Epoch 38, CIFAR-10 Batch 3:  cost_res 0.274239 acc 0.935811\n",
      "Epoch 38, CIFAR-10 Batch 4:  cost_res 0.28538 acc 0.932432\n",
      "Epoch 38, CIFAR-10 Batch 5:  cost_res 0.237214 acc 0.969595\n",
      "Epoch 39, CIFAR-10 Batch 1:  cost_res 0.244098 acc 0.956081\n",
      "Epoch 39, CIFAR-10 Batch 2:  cost_res 0.303902 acc 0.922297\n",
      "Epoch 39, CIFAR-10 Batch 3:  cost_res 0.291813 acc 0.935811\n",
      "Epoch 39, CIFAR-10 Batch 4:  cost_res 0.278405 acc 0.945946\n",
      "Epoch 39, CIFAR-10 Batch 5:  cost_res 0.230383 acc 0.966216\n",
      "Epoch 40, CIFAR-10 Batch 1:  cost_res 0.225104 acc 0.972973\n",
      "Epoch 40, CIFAR-10 Batch 2:  cost_res 0.285404 acc 0.922297\n",
      "Epoch 40, CIFAR-10 Batch 3:  cost_res 0.242438 acc 0.959459\n",
      "Epoch 40, CIFAR-10 Batch 4:  cost_res 0.240266 acc 0.952703\n",
      "Epoch 40, CIFAR-10 Batch 5:  cost_res 0.221262 acc 0.976351\n",
      "Epoch 41, CIFAR-10 Batch 1:  cost_res 0.221867 acc 0.962838\n",
      "Epoch 41, CIFAR-10 Batch 2:  cost_res 0.282096 acc 0.929054\n",
      "Epoch 41, CIFAR-10 Batch 3:  cost_res 0.234031 acc 0.952703\n",
      "Epoch 41, CIFAR-10 Batch 4:  cost_res 0.253436 acc 0.956081\n",
      "Epoch 41, CIFAR-10 Batch 5:  cost_res 0.226332 acc 0.972973\n",
      "Epoch 42, CIFAR-10 Batch 1:  cost_res 0.197492 acc 0.976351\n",
      "Epoch 42, CIFAR-10 Batch 2:  cost_res 0.261701 acc 0.932433\n",
      "Epoch 42, CIFAR-10 Batch 3:  cost_res 0.25111 acc 0.952703\n",
      "Epoch 42, CIFAR-10 Batch 4:  cost_res 0.230088 acc 0.969595\n",
      "Epoch 42, CIFAR-10 Batch 5:  cost_res 0.220285 acc 0.972973\n",
      "Epoch 43, CIFAR-10 Batch 1:  cost_res 0.187711 acc 0.986486\n",
      "Epoch 43, CIFAR-10 Batch 2:  cost_res 0.256064 acc 0.942568\n",
      "Epoch 43, CIFAR-10 Batch 3:  cost_res 0.223233 acc 0.969595\n",
      "Epoch 43, CIFAR-10 Batch 4:  cost_res 0.223473 acc 0.962838\n",
      "Epoch 43, CIFAR-10 Batch 5:  cost_res 0.204589 acc 0.976351\n",
      "Epoch 44, CIFAR-10 Batch 1:  cost_res 0.180206 acc 0.983108\n",
      "Epoch 44, CIFAR-10 Batch 2:  cost_res 0.231239 acc 0.956081\n",
      "Epoch 44, CIFAR-10 Batch 3:  cost_res 0.191531 acc 0.966216\n",
      "Epoch 44, CIFAR-10 Batch 4:  cost_res 0.215618 acc 0.969595\n",
      "Epoch 44, CIFAR-10 Batch 5:  cost_res 0.213804 acc 0.969595\n",
      "Epoch 45, CIFAR-10 Batch 1:  cost_res 0.172719 acc 0.983108\n",
      "Epoch 45, CIFAR-10 Batch 2:  cost_res 0.244826 acc 0.945946\n",
      "Epoch 45, CIFAR-10 Batch 3:  cost_res 0.20041 acc 0.966216\n",
      "Epoch 45, CIFAR-10 Batch 4:  cost_res 0.197383 acc 0.976351\n",
      "Epoch 45, CIFAR-10 Batch 5:  cost_res 0.21479 acc 0.966216\n",
      "Epoch 46, CIFAR-10 Batch 1:  cost_res 0.161571 acc 0.983108\n",
      "Epoch 46, CIFAR-10 Batch 2:  cost_res 0.253139 acc 0.942568\n",
      "Epoch 46, CIFAR-10 Batch 3:  cost_res 0.188822 acc 0.983108\n",
      "Epoch 46, CIFAR-10 Batch 4:  cost_res 0.207355 acc 0.959459\n",
      "Epoch 46, CIFAR-10 Batch 5:  cost_res 0.193142 acc 0.983108\n",
      "Epoch 47, CIFAR-10 Batch 1:  cost_res 0.173104 acc 0.976351\n",
      "Epoch 47, CIFAR-10 Batch 2:  cost_res 0.2192 acc 0.966216\n",
      "Epoch 47, CIFAR-10 Batch 3:  cost_res 0.186993 acc 0.983108\n",
      "Epoch 47, CIFAR-10 Batch 4:  cost_res 0.199111 acc 0.969595\n",
      "Epoch 47, CIFAR-10 Batch 5:  cost_res 0.180828 acc 0.969594\n",
      "Epoch 48, CIFAR-10 Batch 1:  cost_res 0.149209 acc 0.986486\n",
      "Epoch 48, CIFAR-10 Batch 2:  cost_res 0.20097 acc 0.949324\n",
      "Epoch 48, CIFAR-10 Batch 3:  cost_res 0.168951 acc 0.983108\n",
      "Epoch 48, CIFAR-10 Batch 4:  cost_res 0.190893 acc 0.969595\n",
      "Epoch 48, CIFAR-10 Batch 5:  cost_res 0.165976 acc 0.983108\n",
      "Epoch 49, CIFAR-10 Batch 1:  cost_res 0.139645 acc 0.989865\n",
      "Epoch 49, CIFAR-10 Batch 2:  cost_res 0.211251 acc 0.956081\n",
      "Epoch 49, CIFAR-10 Batch 3:  cost_res 0.151236 acc 0.986486\n",
      "Epoch 49, CIFAR-10 Batch 4:  cost_res 0.169971 acc 0.976351\n",
      "Epoch 49, CIFAR-10 Batch 5:  cost_res 0.182832 acc 0.966216\n",
      "Epoch 50, CIFAR-10 Batch 1:  cost_res 0.138592 acc 0.989865\n",
      "Epoch 50, CIFAR-10 Batch 2:  cost_res 0.206862 acc 0.956081\n",
      "Epoch 50, CIFAR-10 Batch 3:  cost_res 0.143043 acc 0.983108\n",
      "Epoch 50, CIFAR-10 Batch 4:  cost_res 0.167811 acc 0.969595\n",
      "Epoch 50, CIFAR-10 Batch 5:  cost_res 0.16601 acc 0.969595\n"
     ]
    }
   ],
   "source": [
    "\"\"\"\n",
    "DON'T MODIFY ANYTHING IN THIS CELL\n",
    "\"\"\"\n",
    "save_model_path = './image_classification'\n",
    "\n",
    "print('Training...')\n",
    "with tf.Session() as sess:\n",
    "    # Initializing the variables\n",
    "    sess.run(tf.global_variables_initializer())\n",
    "    \n",
    "    # Training cycle\n",
    "    for epoch in range(epochs):\n",
    "        # Loop over all batches\n",
    "        n_batches = 5\n",
    "        for batch_i in range(1, n_batches + 1):\n",
    "            for batch_features, batch_labels in helper.load_preprocess_training_batch(batch_i, batch_size):\n",
    "                train_neural_network(sess, optimizer, keep_probability, batch_features, batch_labels)\n",
    "            print('Epoch {:>2}, CIFAR-10 Batch {}:  '.format(epoch + 1, batch_i), end='')\n",
    "            print_stats(sess, batch_features, batch_labels, cost, accuracy)\n",
    "            \n",
    "    # Save Model\n",
    "    saver = tf.train.Saver()\n",
    "    save_path = saver.save(sess, save_model_path)"
   ]
  },
  {
   "cell_type": "markdown",
   "metadata": {},
   "source": [
    "# Checkpoint\n",
    "The model has been saved to disk.\n",
    "## Test Model\n",
    "Test your model against the test dataset.  This will be your final accuracy. You should have an accuracy greater than 50%. If you don't, keep tweaking the model architecture and parameters."
   ]
  },
  {
   "cell_type": "code",
   "execution_count": 18,
   "metadata": {
    "collapsed": false
   },
   "outputs": [
    {
     "name": "stdout",
     "output_type": "stream",
     "text": [
      "Testing Accuracy: 0.6201459109783173\n",
      "\n"
     ]
    },
    {
     "data": {
      "image/png": "[encoded data removed]",
      "text/plain": [
       "<matplotlib.figure.Figure at 0x7f53e8102cc0>"
      ]
     },
     "metadata": {
      "image/png": {
       "height": 319,
       "width": 355
      }
     },
     "output_type": "display_data"
    }
   ],
   "source": [
    "\"\"\"\n",
    "DON'T MODIFY ANYTHING IN THIS CELL\n",
    "\"\"\"\n",
    "%matplotlib inline\n",
    "%config InlineBackend.figure_format = 'retina'\n",
    "\n",
    "import tensorflow as tf\n",
    "import pickle\n",
    "import helper\n",
    "import random\n",
    "\n",
    "# Set batch size if not already set\n",
    "try:\n",
    "    if batch_size:\n",
    "        pass\n",
    "except NameError:\n",
    "    batch_size = 64\n",
    "\n",
    "save_model_path = './image_classification'\n",
    "n_samples = 4\n",
    "top_n_predictions = 3\n",
    "\n",
    "def test_model():\n",
    "    \"\"\"\n",
    "    Test the saved model against the test dataset\n",
    "    \"\"\"\n",
    "\n",
    "    test_features, test_labels = pickle.load(open('preprocess_test.p', mode='rb'))\n",
    "    loaded_graph = tf.Graph()\n",
    "\n",
    "    with tf.Session(graph=loaded_graph) as sess:\n",
    "        # Load model\n",
    "        loader = tf.train.import_meta_graph(save_model_path + '.meta')\n",
    "        loader.restore(sess, save_model_path)\n",
    "\n",
    "        # Get Tensors from loaded model\n",
    "        loaded_x = loaded_graph.get_tensor_by_name('x:0')\n",
    "        loaded_y = loaded_graph.get_tensor_by_name('y:0')\n",
    "        loaded_keep_prob = loaded_graph.get_tensor_by_name('keep_prob:0')\n",
    "        loaded_logits = loaded_graph.get_tensor_by_name('logits:0')\n",
    "        loaded_acc = loaded_graph.get_tensor_by_name('accuracy:0')\n",
    "        \n",
    "        # Get accuracy in batches for memory limitations\n",
    "        test_batch_acc_total = 0\n",
    "        test_batch_count = 0\n",
    "        \n",
    "        for test_feature_batch, test_label_batch in helper.batch_features_labels(test_features, test_labels, batch_size):\n",
    "            test_batch_acc_total += sess.run(\n",
    "                loaded_acc,\n",
    "                feed_dict={loaded_x: test_feature_batch, loaded_y: test_label_batch, loaded_keep_prob: 1.0})\n",
    "            test_batch_count += 1\n",
    "\n",
    "        print('Testing Accuracy: {}\\n'.format(test_batch_acc_total/test_batch_count))\n",
    "\n",
    "        # Print Random Samples\n",
    "        random_test_features, random_test_labels = tuple(zip(*random.sample(list(zip(test_features, test_labels)), n_samples)))\n",
    "        random_test_predictions = sess.run(\n",
    "            tf.nn.top_k(tf.nn.softmax(loaded_logits), top_n_predictions),\n",
    "            feed_dict={loaded_x: random_test_features, loaded_y: random_test_labels, loaded_keep_prob: 1.0})\n",
    "        helper.display_image_predictions(random_test_features, random_test_labels, random_test_predictions)\n",
    "\n",
    "\n",
    "test_model()"
   ]
  },
  {
   "cell_type": "markdown",
   "metadata": {},
   "source": [
    "## Why 50-80% Accuracy?\n",
    "You might be wondering why you can't get an accuracy any higher. First things first, 50% isn't bad for a simple CNN.  Pure guessing would get you 10% accuracy. However, you might notice people are getting scores [well above 80%](http://rodrigob.github.io/are_we_there_yet/build/classification_datasets_results.html#43494641522d3130).  That's because we haven't taught you all there is to know about neural networks. We still need to cover a few more techniques.\n",
    "## Submitting This Project\n",
    "When submitting this project, make sure to run all the cells before saving the notebook.  Save the notebook file as \"dlnd_image_classification.ipynb\" and save it as a HTML file under \"File\" -> \"Download as\".  Include the \"helper.py\" and \"problem_unittests.py\" files in your submission."
   ]
  },
  {
   "cell_type": "code",
   "execution_count": null,
   "metadata": {
    "collapsed": true
   },
   "outputs": [],
   "source": []
  }
 ],
 "metadata": {
  "anaconda-cloud": {},
  "kernelspec": {
   "display_name": "Python 3",
   "language": "python",
   "name": "python3"
  },
  "language_info": {
   "codemirror_mode": {
    "name": "ipython",
    "version": 3
   },
   "file_extension": ".py",
   "mimetype": "text/x-python",
   "name": "python",
   "nbconvert_exporter": "python",
   "pygments_lexer": "ipython3",
   "version": "3.6.0"
  }
 },
 "nbformat": 4,
 "nbformat_minor": 0
}
